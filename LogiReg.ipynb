{
 "cells": [
  {
   "cell_type": "code",
   "execution_count": 1,
   "metadata": {},
   "outputs": [
    {
     "data": {
      "text/html": [
       "<div>\n",
       "<style scoped>\n",
       "    .dataframe tbody tr th:only-of-type {\n",
       "        vertical-align: middle;\n",
       "    }\n",
       "\n",
       "    .dataframe tbody tr th {\n",
       "        vertical-align: top;\n",
       "    }\n",
       "\n",
       "    .dataframe thead th {\n",
       "        text-align: right;\n",
       "    }\n",
       "</style>\n",
       "<table border=\"1\" class=\"dataframe\">\n",
       "  <thead>\n",
       "    <tr style=\"text-align: right;\">\n",
       "      <th></th>\n",
       "      <th>OilQual</th>\n",
       "      <th>EnginePerf</th>\n",
       "      <th>NormMileage</th>\n",
       "      <th>TyreWear</th>\n",
       "      <th>HVACwear</th>\n",
       "      <th>Service</th>\n",
       "    </tr>\n",
       "  </thead>\n",
       "  <tbody>\n",
       "    <tr>\n",
       "      <th>0</th>\n",
       "      <td>103.388821</td>\n",
       "      <td>103.504032</td>\n",
       "      <td>103.051485</td>\n",
       "      <td>106.172658</td>\n",
       "      <td>105.6868429</td>\n",
       "      <td>No</td>\n",
       "    </tr>\n",
       "    <tr>\n",
       "      <th>1</th>\n",
       "      <td>26.765516</td>\n",
       "      <td>26.188265</td>\n",
       "      <td>31.259536</td>\n",
       "      <td>29.186162</td>\n",
       "      <td>31.31127506</td>\n",
       "      <td>Yes</td>\n",
       "    </tr>\n",
       "    <tr>\n",
       "      <th>2</th>\n",
       "      <td>62.413282</td>\n",
       "      <td>63.681061</td>\n",
       "      <td>59.720883</td>\n",
       "      <td>64.704031</td>\n",
       "      <td>58.62051752</td>\n",
       "      <td>Yes</td>\n",
       "    </tr>\n",
       "    <tr>\n",
       "      <th>3</th>\n",
       "      <td>45.533338</td>\n",
       "      <td>49.906615</td>\n",
       "      <td>48.777581</td>\n",
       "      <td>48.113851</td>\n",
       "      <td>?</td>\n",
       "      <td>No</td>\n",
       "    </tr>\n",
       "    <tr>\n",
       "      <th>4</th>\n",
       "      <td>104.388821</td>\n",
       "      <td>103.284032</td>\n",
       "      <td>103.051485</td>\n",
       "      <td>105.822658</td>\n",
       "      <td>106.5368429</td>\n",
       "      <td>No</td>\n",
       "    </tr>\n",
       "    <tr>\n",
       "      <th>...</th>\n",
       "      <td>...</td>\n",
       "      <td>...</td>\n",
       "      <td>...</td>\n",
       "      <td>...</td>\n",
       "      <td>...</td>\n",
       "      <td>...</td>\n",
       "    </tr>\n",
       "    <tr>\n",
       "      <th>312</th>\n",
       "      <td>104.388821</td>\n",
       "      <td>105.744032</td>\n",
       "      <td>103.051485</td>\n",
       "      <td>105.782658</td>\n",
       "      <td>104.1968429</td>\n",
       "      <td>No</td>\n",
       "    </tr>\n",
       "    <tr>\n",
       "      <th>313</th>\n",
       "      <td>63.823282</td>\n",
       "      <td>62.741061</td>\n",
       "      <td>59.720883</td>\n",
       "      <td>61.654031</td>\n",
       "      <td>62.62051752</td>\n",
       "      <td>Yes</td>\n",
       "    </tr>\n",
       "    <tr>\n",
       "      <th>314</th>\n",
       "      <td>26.535516</td>\n",
       "      <td>27.418265</td>\n",
       "      <td>31.259536</td>\n",
       "      <td>27.486162</td>\n",
       "      <td>33.31127506</td>\n",
       "      <td>Yes</td>\n",
       "    </tr>\n",
       "    <tr>\n",
       "      <th>315</th>\n",
       "      <td>26.215516</td>\n",
       "      <td>26.338265</td>\n",
       "      <td>31.259536</td>\n",
       "      <td>27.036162</td>\n",
       "      <td>31.31127506</td>\n",
       "      <td>Yes</td>\n",
       "    </tr>\n",
       "    <tr>\n",
       "      <th>316</th>\n",
       "      <td>62.413282</td>\n",
       "      <td>63.681061</td>\n",
       "      <td>59.720883</td>\n",
       "      <td>64.704031</td>\n",
       "      <td>58.62051752</td>\n",
       "      <td>Yes</td>\n",
       "    </tr>\n",
       "  </tbody>\n",
       "</table>\n",
       "<p>317 rows × 6 columns</p>\n",
       "</div>"
      ],
      "text/plain": [
       "        OilQual  EnginePerf  NormMileage    TyreWear     HVACwear Service\n",
       "0    103.388821  103.504032   103.051485  106.172658  105.6868429      No\n",
       "1     26.765516   26.188265    31.259536   29.186162  31.31127506     Yes\n",
       "2     62.413282   63.681061    59.720883   64.704031  58.62051752     Yes\n",
       "3     45.533338   49.906615    48.777581   48.113851            ?      No\n",
       "4    104.388821  103.284032   103.051485  105.822658  106.5368429      No\n",
       "..          ...         ...          ...         ...          ...     ...\n",
       "312  104.388821  105.744032   103.051485  105.782658  104.1968429      No\n",
       "313   63.823282   62.741061    59.720883   61.654031  62.62051752     Yes\n",
       "314   26.535516   27.418265    31.259536   27.486162  33.31127506     Yes\n",
       "315   26.215516   26.338265    31.259536   27.036162  31.31127506     Yes\n",
       "316   62.413282   63.681061    59.720883   64.704031  58.62051752     Yes\n",
       "\n",
       "[317 rows x 6 columns]"
      ]
     },
     "execution_count": 1,
     "metadata": {},
     "output_type": "execute_result"
    }
   ],
   "source": [
    "import pandas as pd\n",
    "import numpy as np\n",
    "import matplotlib.pyplot as plt\n",
    "import seaborn as sns\n",
    "\n",
    "df = pd.read_csv(\"ServiceTrain.csv\")\n",
    "df"
   ]
  },
  {
   "cell_type": "code",
   "execution_count": 2,
   "metadata": {},
   "outputs": [
    {
     "data": {
      "text/plain": [
       "OilQual        0\n",
       "EnginePerf     1\n",
       "NormMileage    2\n",
       "TyreWear       2\n",
       "HVACwear       1\n",
       "Service        0\n",
       "dtype: int64"
      ]
     },
     "execution_count": 2,
     "metadata": {},
     "output_type": "execute_result"
    }
   ],
   "source": [
    "df.isna().sum()"
   ]
  },
  {
   "cell_type": "code",
   "execution_count": 3,
   "metadata": {},
   "outputs": [
    {
     "data": {
      "text/plain": [
       "OilQual        float64\n",
       "EnginePerf     float64\n",
       "NormMileage    float64\n",
       "TyreWear       float64\n",
       "HVACwear        object\n",
       "Service         object\n",
       "dtype: object"
      ]
     },
     "execution_count": 3,
     "metadata": {},
     "output_type": "execute_result"
    }
   ],
   "source": [
    "df.dtypes"
   ]
  },
  {
   "cell_type": "markdown",
   "metadata": {},
   "source": [
    "...DATA PRE-PROCESSING..."
   ]
  },
  {
   "cell_type": "code",
   "execution_count": 4,
   "metadata": {},
   "outputs": [
    {
     "data": {
      "text/plain": [
       "OilQual        0\n",
       "EnginePerf     1\n",
       "NormMileage    2\n",
       "TyreWear       2\n",
       "HVACwear       2\n",
       "Service        0\n",
       "dtype: int64"
      ]
     },
     "execution_count": 4,
     "metadata": {},
     "output_type": "execute_result"
    }
   ],
   "source": [
    "df=df.replace('?',np.NaN)\n",
    "df.isna().sum()"
   ]
  },
  {
   "cell_type": "code",
   "execution_count": 5,
   "metadata": {},
   "outputs": [],
   "source": [
    "avg1 = df[\"EnginePerf\"].astype('float').mean()\n",
    "avg2 = df[\"NormMileage\"].astype('float').mean()\n",
    "avg3 = df[\"TyreWear\"].astype('float').mean()\n",
    "mode = df[\"HVACwear\"].astype('str').mode()\n",
    "df['EnginePerf'].replace(np.NaN,avg1,inplace=True)\n",
    "df['NormMileage'].replace(np.NaN,avg2,inplace=True)\n",
    "df['TyreWear'].replace(np.NaN,avg3,inplace=True)\n",
    "df['HVACwear'].replace(np.NaN,mode.iloc[0],inplace=True)"
   ]
  },
  {
   "cell_type": "code",
   "execution_count": 6,
   "metadata": {},
   "outputs": [
    {
     "data": {
      "text/plain": [
       "OilQual        0\n",
       "EnginePerf     0\n",
       "NormMileage    0\n",
       "TyreWear       0\n",
       "HVACwear       0\n",
       "Service        0\n",
       "dtype: int64"
      ]
     },
     "execution_count": 6,
     "metadata": {},
     "output_type": "execute_result"
    }
   ],
   "source": [
    "df.isna().sum()"
   ]
  },
  {
   "cell_type": "markdown",
   "metadata": {},
   "source": [
    "...DETECTING OUTLIERS..."
   ]
  },
  {
   "cell_type": "code",
   "execution_count": 7,
   "metadata": {},
   "outputs": [
    {
     "data": {
      "text/plain": [
       "<AxesSubplot:xlabel='OilQual', ylabel='EnginePerf'>"
      ]
     },
     "execution_count": 7,
     "metadata": {},
     "output_type": "execute_result"
    },
    {
     "data": {
      "image/png": "[encoded data removed]",
      "text/plain": [
       "<Figure size 432x288 with 1 Axes>"
      ]
     },
     "metadata": {
      "needs_background": "light"
     },
     "output_type": "display_data"
    }
   ],
   "source": [
    "sns.scatterplot(x=df['OilQual'],y=df['EnginePerf'])"
   ]
  },
  {
   "cell_type": "code",
   "execution_count": 8,
   "metadata": {},
   "outputs": [],
   "source": [
    "def remove_outlier(col):\n",
    "    sorted(col)\n",
    "    Q1,Q3=col.quantile([0.25,0.75])\n",
    "    IQR=Q3-Q1\n",
    "    lower_range= Q1-(1.5*IQR)\n",
    "    upper_range= Q3+(1.5*IQR)\n",
    "    return lower_range, upper_range"
   ]
  },
  {
   "cell_type": "code",
   "execution_count": 9,
   "metadata": {},
   "outputs": [],
   "source": [
    "lowoilqual,upperoilqual=remove_outlier(df['OilQual'])\n",
    "df['OilQual']=np.where(df['OilQual']>upperoilqual,upperoilqual,df['OilQual'])\n",
    "df['OilQual']=np.where(df['OilQual']<lowoilqual,lowoilqual,df['OilQual'])"
   ]
  },
  {
   "cell_type": "markdown",
   "metadata": {},
   "source": [
    "...ENCODING AND APPLYING REGRESSION MODEL..."
   ]
  },
  {
   "cell_type": "code",
   "execution_count": 10,
   "metadata": {},
   "outputs": [],
   "source": [
    "Enc_Service = []\n",
    "for i in df[\"Service\"]:\n",
    "    if(i==\"Yes\"):\n",
    "        Enc_Service.append(1)\n",
    "    elif(i==\"No\"):\n",
    "        Enc_Service.append(0)\n",
    "df[\"Encoded Service\"] = Enc_Service\n",
    "df = df.drop(['Service'],axis=1)"
   ]
  },
  {
   "cell_type": "code",
   "execution_count": 11,
   "metadata": {},
   "outputs": [
    {
     "name": "stdout",
     "output_type": "stream",
     "text": [
      "[[ 0.29982612 -0.22476411 -0.04665779 -0.18238537  0.12922071]]\n"
     ]
    }
   ],
   "source": [
    "from sklearn import linear_model\n",
    "\n",
    "X = df[['OilQual', 'EnginePerf', 'NormMileage', 'TyreWear', 'HVACwear']]\n",
    "Y = df['Encoded Service']\n",
    "\n",
    "regr = linear_model.LogisticRegression()\n",
    "regr.fit(X, Y)\n",
    "print(regr.coef_)"
   ]
  },
  {
   "cell_type": "code",
   "execution_count": 12,
   "metadata": {},
   "outputs": [
    {
     "data": {
      "text/html": [
       "<div>\n",
       "<style scoped>\n",
       "    .dataframe tbody tr th:only-of-type {\n",
       "        vertical-align: middle;\n",
       "    }\n",
       "\n",
       "    .dataframe tbody tr th {\n",
       "        vertical-align: top;\n",
       "    }\n",
       "\n",
       "    .dataframe thead th {\n",
       "        text-align: right;\n",
       "    }\n",
       "</style>\n",
       "<table border=\"1\" class=\"dataframe\">\n",
       "  <thead>\n",
       "    <tr style=\"text-align: right;\">\n",
       "      <th></th>\n",
       "      <th>OilQual</th>\n",
       "      <th>EnginePerf</th>\n",
       "      <th>NormMileage</th>\n",
       "      <th>TyreWear</th>\n",
       "      <th>HVACwear</th>\n",
       "      <th>Encoded Service</th>\n",
       "    </tr>\n",
       "  </thead>\n",
       "  <tbody>\n",
       "    <tr>\n",
       "      <th>0</th>\n",
       "      <td>103.388821</td>\n",
       "      <td>103.504032</td>\n",
       "      <td>103.051485</td>\n",
       "      <td>106.172658</td>\n",
       "      <td>105.6868429</td>\n",
       "      <td>0</td>\n",
       "    </tr>\n",
       "    <tr>\n",
       "      <th>1</th>\n",
       "      <td>26.765516</td>\n",
       "      <td>26.188265</td>\n",
       "      <td>31.259536</td>\n",
       "      <td>29.186162</td>\n",
       "      <td>31.31127506</td>\n",
       "      <td>1</td>\n",
       "    </tr>\n",
       "    <tr>\n",
       "      <th>2</th>\n",
       "      <td>62.413282</td>\n",
       "      <td>63.681061</td>\n",
       "      <td>59.720883</td>\n",
       "      <td>64.704031</td>\n",
       "      <td>58.62051752</td>\n",
       "      <td>1</td>\n",
       "    </tr>\n",
       "    <tr>\n",
       "      <th>3</th>\n",
       "      <td>45.533338</td>\n",
       "      <td>49.906615</td>\n",
       "      <td>48.777581</td>\n",
       "      <td>48.113851</td>\n",
       "      <td>105.5368429</td>\n",
       "      <td>0</td>\n",
       "    </tr>\n",
       "    <tr>\n",
       "      <th>4</th>\n",
       "      <td>104.388821</td>\n",
       "      <td>103.284032</td>\n",
       "      <td>103.051485</td>\n",
       "      <td>105.822658</td>\n",
       "      <td>106.5368429</td>\n",
       "      <td>0</td>\n",
       "    </tr>\n",
       "    <tr>\n",
       "      <th>...</th>\n",
       "      <td>...</td>\n",
       "      <td>...</td>\n",
       "      <td>...</td>\n",
       "      <td>...</td>\n",
       "      <td>...</td>\n",
       "      <td>...</td>\n",
       "    </tr>\n",
       "    <tr>\n",
       "      <th>312</th>\n",
       "      <td>104.388821</td>\n",
       "      <td>105.744032</td>\n",
       "      <td>103.051485</td>\n",
       "      <td>105.782658</td>\n",
       "      <td>104.1968429</td>\n",
       "      <td>0</td>\n",
       "    </tr>\n",
       "    <tr>\n",
       "      <th>313</th>\n",
       "      <td>63.823282</td>\n",
       "      <td>62.741061</td>\n",
       "      <td>59.720883</td>\n",
       "      <td>61.654031</td>\n",
       "      <td>62.62051752</td>\n",
       "      <td>1</td>\n",
       "    </tr>\n",
       "    <tr>\n",
       "      <th>314</th>\n",
       "      <td>26.535516</td>\n",
       "      <td>27.418265</td>\n",
       "      <td>31.259536</td>\n",
       "      <td>27.486162</td>\n",
       "      <td>33.31127506</td>\n",
       "      <td>1</td>\n",
       "    </tr>\n",
       "    <tr>\n",
       "      <th>315</th>\n",
       "      <td>26.215516</td>\n",
       "      <td>26.338265</td>\n",
       "      <td>31.259536</td>\n",
       "      <td>27.036162</td>\n",
       "      <td>31.31127506</td>\n",
       "      <td>1</td>\n",
       "    </tr>\n",
       "    <tr>\n",
       "      <th>316</th>\n",
       "      <td>62.413282</td>\n",
       "      <td>63.681061</td>\n",
       "      <td>59.720883</td>\n",
       "      <td>64.704031</td>\n",
       "      <td>58.62051752</td>\n",
       "      <td>1</td>\n",
       "    </tr>\n",
       "  </tbody>\n",
       "</table>\n",
       "<p>317 rows × 6 columns</p>\n",
       "</div>"
      ],
      "text/plain": [
       "        OilQual  EnginePerf  NormMileage    TyreWear     HVACwear  \\\n",
       "0    103.388821  103.504032   103.051485  106.172658  105.6868429   \n",
       "1     26.765516   26.188265    31.259536   29.186162  31.31127506   \n",
       "2     62.413282   63.681061    59.720883   64.704031  58.62051752   \n",
       "3     45.533338   49.906615    48.777581   48.113851  105.5368429   \n",
       "4    104.388821  103.284032   103.051485  105.822658  106.5368429   \n",
       "..          ...         ...          ...         ...          ...   \n",
       "312  104.388821  105.744032   103.051485  105.782658  104.1968429   \n",
       "313   63.823282   62.741061    59.720883   61.654031  62.62051752   \n",
       "314   26.535516   27.418265    31.259536   27.486162  33.31127506   \n",
       "315   26.215516   26.338265    31.259536   27.036162  31.31127506   \n",
       "316   62.413282   63.681061    59.720883   64.704031  58.62051752   \n",
       "\n",
       "     Encoded Service  \n",
       "0                  0  \n",
       "1                  1  \n",
       "2                  1  \n",
       "3                  0  \n",
       "4                  0  \n",
       "..               ...  \n",
       "312                0  \n",
       "313                1  \n",
       "314                1  \n",
       "315                1  \n",
       "316                1  \n",
       "\n",
       "[317 rows x 6 columns]"
      ]
     },
     "execution_count": 12,
     "metadata": {},
     "output_type": "execute_result"
    }
   ],
   "source": [
    "df"
   ]
  },
  {
   "cell_type": "code",
   "execution_count": 13,
   "metadata": {},
   "outputs": [
    {
     "name": "stdout",
     "output_type": "stream",
     "text": [
      "Model Accuracy =  0.8940397350993378\n",
      "[1]\n"
     ]
    },
    {
     "name": "stderr",
     "output_type": "stream",
     "text": [
      "C:\\Users\\admin\\miniconda3\\lib\\site-packages\\sklearn\\base.py:450: UserWarning: X does not have valid feature names, but LogisticRegression was fitted with feature names\n",
      "  warnings.warn(\n"
     ]
    }
   ],
   "source": [
    "from sklearn.model_selection import train_test_split\n",
    "x_train,x_test,y_train,y_test = train_test_split(X, Y, test_size=0.95, random_state=10)\n",
    "reg = linear_model.LogisticRegression()\n",
    "reg.fit(x_train, y_train)\n",
    "accu = reg.score(x_test,y_test)\n",
    "print(\"Model Accuracy = \",accu)\n",
    "\n",
    "pred = regr.predict([[26.76, 26.18, 31.25, 29.18, 31.31]])\n",
    "print(pred)"
   ]
  }
 ],
 "metadata": {
  "interpreter": {
   "hash": "60b10e7d9e10a9141a63f231bfa48f15f237fb3ee2661c44b04a5a83dd7d6486"
  },
  "kernelspec": {
   "display_name": "Python 3.9.5 ('base')",
   "language": "python",
   "name": "python3"
  },
  "language_info": {
   "codemirror_mode": {
    "name": "ipython",
    "version": 3
   },
   "file_extension": ".py",
   "mimetype": "text/x-python",
   "name": "python",
   "nbconvert_exporter": "python",
   "pygments_lexer": "ipython3",
   "version": "3.9.5"
  },
  "orig_nbformat": 4
 },
 "nbformat": 4,
 "nbformat_minor": 2
}
